{
 "cells": [
  {
   "cell_type": "markdown",
   "metadata": {},
   "source": [
    "# Tutorial de Phyton para dummies "
   ]
  },
  {
   "cell_type": "markdown",
   "metadata": {},
   "source": [
    "*Autor: Angely Correa*"
   ]
  },
  {
   "cell_type": "markdown",
   "metadata": {},
   "source": [
    "¡Hola! Bienvenido a tu guía básica de Phyton"
   ]
  },
  {
   "cell_type": "markdown",
   "metadata": {},
   "source": [
    "### ¿Qué es Phyton?"
   ]
  },
  {
   "cell_type": "markdown",
   "metadata": {},
   "source": [
    "Phyton es un lenguaje de programación, esto quiere decir que es la manera en la que nos comunicamos con \n",
    "las computadoras y les informamos que necesitamos que hagan por nosotros. \n",
    "\n",
    "Este lenguaje se ha hecho sumamente popular en los últimos años debido a su fácil comprensión y versatilidad. \n",
    "Phyton es un lenguaje de propósito general, lo que significia que está diseñado para ser utilizado en diversas \n",
    "aplicaciones, incluyendo ciencias de datos, desarrollo de software y web, automatización y, en general, para hacer \n",
    "cosas. (Coursera Staff, 2023)"
   ]
  },
  {
   "cell_type": "markdown",
   "metadata": {},
   "source": [
    "#### Ahora, iniciaremos explicando el formato de texto que usamos en Phyton"
   ]
  },
  {
   "cell_type": "markdown",
   "metadata": {},
   "source": [
    "### *MARKDOWN*\n"
   ]
  },
  {
   "cell_type": "markdown",
   "metadata": {},
   "source": [
    "Markdown es una herramienta para aplicar estilo al texto en la web. Es la manera en la que podemos controlar la visualización del documento; Darle formato a las palabras en negrita o cursiva, agregar imagenes y crear listas, son solo algunas de las cosas que podemos hacer con Markdown. (Learn Markdown, n.d.)"
   ]
  },
  {
   "cell_type": "markdown",
   "metadata": {},
   "source": [
    "#### Sintaxis básica de Markdown"
   ]
  },
  {
   "cell_type": "markdown",
   "metadata": {},
   "source": [
    "Mostraremos algunos de los elementos básicos más usados en Markdown:"
   ]
  },
  {
   "cell_type": "markdown",
   "metadata": {},
   "source": [
    "**1. Encabezados:** Los encabezados se crean usando el símbolo # antes del texto. Cuantos más # se utilicen, más pequeño será el cabezado.\n",
    "\n",
    "- # Encabezado nivel 1\n",
    "- ## Encabezado nivel 2\n",
    "- ### Encabezado nivel 3\n",
    "\n",
    "\n",
    "\n",
    "***NOTA:*** No podemos olvidar que debe existir un espacio entre el símbolo # y el texto que escribamos"
   ]
  },
  {
   "cell_type": "markdown",
   "metadata": {},
   "source": [
    "**2.Estilos de texto:** Podemos darle un formato al texto:\n",
    "\n",
    "- **Negrita:** Se genera al poner doble asterisco ** o doble guión bajo __ al principio y al final del texto.\n",
    "\n",
    "Ejemplo: **Me gusta la pizza** __¿Y a tí?__"
   ]
  },
  {
   "cell_type": "markdown",
   "metadata": {},
   "source": [
    "***3. Listas.***\n",
    "\n",
    "**Listas no ordenadas:** Se crean al poner guiones o asteristos antes del texto.\n",
    "\n",
    "- Elemento 1\n",
    "- Elemento 2\n",
    "- Elemento 3\n",
    "\n",
    "**Listas ordenadas:** Se crean al poner números seguidos de un punto antes del texto.\n",
    "\n",
    "1. Primer elemento\n",
    "2. Segundo elemento\n",
    "3. Tercer elemento\n"
   ]
  },
  {
   "cell_type": "markdown",
   "metadata": {},
   "source": [
    "**4.Enlaces e imágenes**\n",
    "\n",
    "**Enlaces:** Usa corchetes [ ] para poner el texto que deseas que sea visualizado y paréntesis () para poner la URL.\n",
    "\n",
    "Ejemplo:\n",
    "\n",
    "[Un parque acuático canino] (https:XXXXXXX)\n",
    "\n",
    "\n",
    "[Un parque acuático canino, el refugio del calor para las mascotas y sus dueños](https://elpais.com/actualidad/2024-08-05/video-un-parque-acuatico-canino-el-refugio-del-calor-para-las-mascotas-y-sus-duenos.html?autoplay=1)\n",
    "\n",
    "**Imágenes:** Usa la misma estructura que en los enlaces, pero añade un signo de exclamación ! al inicio.\n",
    "\n",
    "![Salchipapa costeña](https://4.bp.blogspot.com/-SCv09T3ZyhQ/WZ9t8GOl9oI/AAAAAAAAC_s/pBYEnRumfQkB151rwNIIg7oD969C9CFAwCLcBGAs/w1200-h630-p-k-no-nu/CANTUA.jpg)"
   ]
  },
  {
   "cell_type": "markdown",
   "metadata": {},
   "source": [
    "#### Ya que comprendimos la sintaxis de Markdown, comencemos con los primeros pasos en Phyton"
   ]
  },
  {
   "cell_type": "markdown",
   "metadata": {},
   "source": [
    "### Instalar librerias desde Jupyter Notebook"
   ]
  },
  {
   "cell_type": "markdown",
   "metadata": {},
   "source": [
    "En Phyton una librería es un paquete que contiene un conjunto de funciones y variables que fueron construidas y probadas por otros programadores para realizar tareas especificas. En lugar de escribir todo el código desde cero para cada tarea o situación, puedes usar librerias.\n",
    "\n",
    "Por otro lado, Jupyter Notebook es un entorno interactivo donde se pueden escribir y ejecurar los códigos de Phyton. Permite a los programadores reunir celdas de código o texto en formato Markdown."
   ]
  },
  {
   "cell_type": "markdown",
   "metadata": {},
   "source": [
    "#### Pasos para la instalación"
   ]
  },
  {
   "cell_type": "markdown",
   "metadata": {},
   "source": [
    "1. Para instalar una biblioteca en Jupyter puedes usar el comando \"pip\" que es el instalador de paquetes de Phyton.\n",
    "Debes seguir la siguiente sintaxis en una celda de código y ejecutarlo:\n",
    "\n",
    "!pip install\n",
    "nombre_de_la_libreria\n",
    "\n",
    "***NOTA:*** El código se ejecuta presionando shift + Enter"
   ]
  },
  {
   "cell_type": "code",
   "execution_count": 23,
   "metadata": {},
   "outputs": [
    {
     "name": "stdout",
     "output_type": "stream",
     "text": [
      "Requirement already satisfied: numpy in c:\\users\\angel\\.venvs\\cienciadedatosi\\lib\\site-packages (2.1.1)\n"
     ]
    },
    {
     "name": "stderr",
     "output_type": "stream",
     "text": [
      "\n",
      "[notice] A new release of pip is available: 24.0 -> 24.2\n",
      "[notice] To update, run: python.exe -m pip install --upgrade pip\n"
     ]
    }
   ],
   "source": [
    "## Ejemplo:\n",
    "!pip install numpy"
   ]
  },
  {
   "cell_type": "markdown",
   "metadata": {},
   "source": [
    "2. Una vez ejecutado el código y teniendo la librería instalado, ya puedes importarla y usarla en tú código, bajo la siguiente sintaxis:\n",
    "\n",
    "import numpy as np\n",
    "\n",
    "***NOTA:*** np es un alias que se utiliza para acortar el nombre de la librería al momento de importarla"
   ]
  },
  {
   "cell_type": "code",
   "execution_count": 1,
   "metadata": {},
   "outputs": [],
   "source": [
    "import numpy as np"
   ]
  },
  {
   "cell_type": "markdown",
   "metadata": {},
   "source": [
    "### Comentarios en el código"
   ]
  },
  {
   "cell_type": "markdown",
   "metadata": {},
   "source": [
    "Para agregar comentarios, anotaciones o recordatorios dentro de la ventana de código solo debes agregar un símbolo # antes del texto:"
   ]
  },
  {
   "cell_type": "code",
   "execution_count": 3,
   "metadata": {},
   "outputs": [],
   "source": [
    "# Comentario de Phyton"
   ]
  },
  {
   "cell_type": "markdown",
   "metadata": {},
   "source": [
    "### Creación de variables"
   ]
  },
  {
   "cell_type": "markdown",
   "metadata": {},
   "source": [
    "Es necesario crear variables para identificar, diferenciar y almacenar los datos que necesitemos.\n",
    "\n",
    "Para la creación de variables en Phyton es necesario tomar en cuenta lo siguiente:\n",
    "\n",
    "1. El nombre de la variable solo puede contener letras, números y guiones bajos.\n",
    "2. El nombre de la variable no puede iniciar con un número \n",
    "3. El nombre de la variable no puede contener espacios (Puede reemplazar los espacios con guiones bajos)\n",
    "4. Las mayúsculas y minúsculas importan es decir, la variables **número** es diferente a la varibale **Número**"
   ]
  },
  {
   "cell_type": "code",
   "execution_count": 8,
   "metadata": {},
   "outputs": [],
   "source": [
    "#Ejemplo\n",
    "\n",
    "Edad = 35"
   ]
  },
  {
   "cell_type": "markdown",
   "metadata": {},
   "source": [
    "### Tipos de datos"
   ]
  },
  {
   "cell_type": "markdown",
   "metadata": {},
   "source": [
    "Las variables pueden contener distintos tipos de datos; números enteros, números con decimales, cadenas de texto y booleanos.\n",
    "\n",
    "**1.Enteros(int):** Números sin decimales: 10, 50, 90, 1000\n",
    "\n",
    "**2.Flotantes(float):** Números con decimales: 5.8, 3.1416\n",
    "\n",
    "**3.Cadenas de texto(str):** Texto encerrado entre comillas: \"Hey, babe\"\n",
    "\n",
    "**4.Booleanos(bool):** Valores de verdadero o falso: True o False"
   ]
  },
  {
   "cell_type": "code",
   "execution_count": 9,
   "metadata": {},
   "outputs": [],
   "source": [
    "# Asignando diferentes tipos de valores a variables\n",
    "\n",
    "edad = 30               # Entero\n",
    "precio = 5.80           # Flotante\n",
    "es_estudiante = True    # Booleano\n",
    "nombre = \"Emilio\"       # Cadena de texto"
   ]
  },
  {
   "cell_type": "markdown",
   "metadata": {},
   "source": [
    "**NOTA:** Para borrar variables se utiliza la siguiente sintaxis: del nombre_de_la_variable"
   ]
  },
  {
   "cell_type": "code",
   "execution_count": 10,
   "metadata": {},
   "outputs": [],
   "source": [
    "#Ejemplo\n",
    "\n",
    "del Edad"
   ]
  },
  {
   "cell_type": "markdown",
   "metadata": {},
   "source": [
    "### Conversión básica entre tipos de datos"
   ]
  },
  {
   "cell_type": "markdown",
   "metadata": {},
   "source": [
    "A la hora de programar usualmente necesitamos trabajar con distintos tipos de datos, y en ocasiones resulta necesario que se encuentren en un mismo formato para poder realizar operaciones entre ellos, por ejemplo."
   ]
  },
  {
   "cell_type": "code",
   "execution_count": 24,
   "metadata": {},
   "outputs": [
    {
     "data": {
      "text/plain": [
       "int"
      ]
     },
     "execution_count": 24,
     "metadata": {},
     "output_type": "execute_result"
    }
   ],
   "source": [
    "#Ejemplo\n",
    "\n",
    "# Tenemos el siguiente dato:\n",
    "\n",
    "número_de_celular = 3054579850\n",
    "\n",
    "# Usamos el siguiente comando para saber que tipo de dato tenemos\n",
    "\n",
    "type(número_de_celular)"
   ]
  },
  {
   "cell_type": "code",
   "execution_count": 28,
   "metadata": {},
   "outputs": [
    {
     "data": {
      "text/plain": [
       "3054579850.0"
      ]
     },
     "execution_count": 28,
     "metadata": {},
     "output_type": "execute_result"
    }
   ],
   "source": [
    "#Sabiendo que el dato anterior es un dato de tipo int es decir, un número entero vamos a convertirlo en otro tipo de dato\n",
    "\n",
    "#De int a float\n",
    "\n",
    "float(número_de_celular)"
   ]
  },
  {
   "cell_type": "code",
   "execution_count": 29,
   "metadata": {},
   "outputs": [
    {
     "data": {
      "text/plain": [
       "'3054579850'"
      ]
     },
     "execution_count": 29,
     "metadata": {},
     "output_type": "execute_result"
    }
   ],
   "source": [
    "# De int a str\n",
    "\n",
    "str(número_de_celular)"
   ]
  },
  {
   "cell_type": "markdown",
   "metadata": {},
   "source": [
    "### Operaciones entre tipos de datos"
   ]
  },
  {
   "cell_type": "markdown",
   "metadata": {},
   "source": [
    "##### 1. Operaciones entre datos numéricos "
   ]
  },
  {
   "cell_type": "markdown",
   "metadata": {},
   "source": [
    "Para realizar operaciones entre datos es necesario escribir la función print() y dentro del paréntesis escribir la operación que necesitemos."
   ]
  },
  {
   "cell_type": "code",
   "execution_count": 13,
   "metadata": {},
   "outputs": [
    {
     "name": "stdout",
     "output_type": "stream",
     "text": [
      "43\n",
      "1.3333333333333333\n"
     ]
    }
   ],
   "source": [
    "#Ejemplo de operaciones básicas\n",
    "\n",
    "print(3+5*8)\n",
    "print(8/6)"
   ]
  },
  {
   "cell_type": "code",
   "execution_count": 14,
   "metadata": {},
   "outputs": [
    {
     "name": "stdout",
     "output_type": "stream",
     "text": [
      "128\n"
     ]
    }
   ],
   "source": [
    "#Para la potenciación\n",
    "\n",
    "print(2**7)"
   ]
  },
  {
   "cell_type": "markdown",
   "metadata": {},
   "source": [
    "Es importante tomar en cuenta que para algunas operaciones como la raíz cuadrada de un número es necesario cargar alguna libreria"
   ]
  },
  {
   "cell_type": "code",
   "execution_count": 16,
   "metadata": {},
   "outputs": [
    {
     "name": "stdout",
     "output_type": "stream",
     "text": [
      "10.0\n"
     ]
    }
   ],
   "source": [
    "#Ejemplo\n",
    "\n",
    "import math \n",
    "\n",
    "print(math.sqrt(100))"
   ]
  },
  {
   "cell_type": "markdown",
   "metadata": {},
   "source": [
    "### Operaciones lógicas"
   ]
  },
  {
   "cell_type": "markdown",
   "metadata": {},
   "source": [
    "En Phyton hay dos tipos de operaciones lógicas\n",
    "\n",
    "1. Operadores de comparación\n",
    "2. Operadores lógicos"
   ]
  },
  {
   "cell_type": "markdown",
   "metadata": {},
   "source": [
    "##### 1. Operadores de Comparación"
   ]
  },
  {
   "cell_type": "markdown",
   "metadata": {},
   "source": [
    "Se usan para comparar dos valores y devolver un valor True (Verdadero) o False (Falso). Los operadores más comunes son:\n",
    "\n",
    "1. Igual a, simbolicamente sería ==\n",
    "\n",
    "Ejemplo: 5 == 9 \n",
    "\n",
    "Lo que daría como resultado: False\n",
    "\n",
    "2. Distinto de, simbolicamente sería !=\n",
    "\n",
    "Ejemplo: 5 == 4\n",
    "\n",
    "Lo que daría como resultado: True\n",
    "\n",
    "3. Mayor que, simbolicamente sería >\n",
    "\n",
    "Ejemplo: 5 > 1\n",
    "\n",
    "Lo que daría como resultado: True\n",
    "\n",
    "4. Menor que, simbolicamente sería <\n",
    "\n",
    "Ejemplo: 5 < 3\n",
    "\n",
    "Lo que daría como resultado: False\n",
    "\n",
    "5. Mayor o igual que, simbolicamente sería >=\n",
    "\n",
    "Ejemplo: 5 >= 5\n",
    "\n",
    "Lo que daría como resultado: True\n",
    "\n",
    "6. Menor o igual que, simbolicamente sería <=\n",
    "\n",
    "Ejemplo: 12 <= 9 \n",
    "\n",
    "Lo que daría como resultado: False\n",
    "\n"
   ]
  },
  {
   "cell_type": "code",
   "execution_count": 21,
   "metadata": {},
   "outputs": [
    {
     "name": "stdout",
     "output_type": "stream",
     "text": [
      "True\n",
      "False\n"
     ]
    }
   ],
   "source": [
    "#Ejemplo\n",
    "\n",
    "a = 52\n",
    "b = 89\n",
    "\n",
    "print(a < b)\n",
    "\n",
    "print(a >= 54)"
   ]
  },
  {
   "cell_type": "markdown",
   "metadata": {},
   "source": [
    "##### 2. Operadores lógicos"
   ]
  },
  {
   "cell_type": "markdown",
   "metadata": {},
   "source": [
    "Los operadores lógicos nos permiten combinar varias condiciones. Los más comunes son:\n",
    "\n",
    "1. Verdadero si ambas condiciones son verdaderas, lo representamos con: and\n",
    "\n",
    "Ejemplo: (5 > 3) and (7 < 10)\n",
    "\n",
    "Lo que daría como resultado: True\n",
    "\n",
    "2. Verdadero si al menos una de las dos condiciones es verdadera, lo representamos con: or\n",
    "\n",
    "Ejemplo: (5 > 3) or (7 > 10)\n",
    "\n",
    "Lo que daría como resultado: True\n",
    "\n",
    "3. Invierte el valor de la condición, es decir, lo que es verdadero se convierte en falso y viceversa, lo representamos con: not\n",
    "\n",
    "Ejemplo: not(5 > 3)\n",
    "\n",
    "Lo que daría como resultado: False"
   ]
  },
  {
   "cell_type": "code",
   "execution_count": 22,
   "metadata": {},
   "outputs": [
    {
     "name": "stdout",
     "output_type": "stream",
     "text": [
      "True\n",
      "False\n",
      "True\n",
      "False\n"
     ]
    }
   ],
   "source": [
    "#Ejemplo\n",
    "\n",
    "x = 5\n",
    "y = 10\n",
    "\n",
    "# AND: Ambas condiciones deben ser verdaderas\n",
    "print(x > 3 and y < 15)   # True, porque ambas condiciones son verdaderas\n",
    "print(x > 3 and y > 15)   # False, porque una condición es falsa\n",
    "\n",
    "# OR: Al menos una condición debe ser verdadera\n",
    "print(x > 3 or y > 15)    # True, porque una condición es verdadera\n",
    "\n",
    "# NOT: Invierte el valor\n",
    "print(not (x > 3))        # False, porque la condición es verdadera, y not la invierte"
   ]
  },
  {
   "cell_type": "markdown",
   "metadata": {},
   "source": [
    "### Introduccion a clases, objetos, atributos y métodos"
   ]
  },
  {
   "cell_type": "markdown",
   "metadata": {},
   "source": [
    "Primero es necesario definir que son clases, objetos, atributos y métodos, de manera simplificada podemos entenderlo así:\n",
    "\n",
    "1. Clases: Son el punto de partida para crear objetos, como plantillas o planos.\n",
    "2. Objetos: Son representaciones espcificas de una clase\n",
    "3. Atributos: Son las propiedades que describen a un objeto\n",
    "4. Métodos: Son las funciones dentro de una clase que indican lo que el objeto puede hacer."
   ]
  },
  {
   "cell_type": "code",
   "execution_count": 30,
   "metadata": {},
   "outputs": [],
   "source": [
    "# Ejemplo\n",
    "\n",
    "class auto:\n",
    "    def __init__(self, marca, modelo):\n",
    "        self.marca = marca\n",
    "        self.modelo = modelo\n",
    "    \n",
    "    def mostrar_info(self):\n",
    "        print(f\"Este auto es un {self.marca} {self.modelo}.\")\n",
    "\n"
   ]
  },
  {
   "cell_type": "code",
   "execution_count": 32,
   "metadata": {},
   "outputs": [
    {
     "name": "stdout",
     "output_type": "stream",
     "text": [
      "Este auto es un Toyota Corolla.\n"
     ]
    }
   ],
   "source": [
    "auto1 = auto(\"Toyota\", \"Corolla\")\n",
    "auto1.mostrar_info()  # Imprime: Este coche es un Toyota Corolla.\n"
   ]
  },
  {
   "cell_type": "code",
   "execution_count": null,
   "metadata": {},
   "outputs": [],
   "source": [
    "#jajaja"
   ]
  },
  {
   "cell_type": "markdown",
   "metadata": {},
   "source": [
    "### Estructura de datos básica"
   ]
  },
  {
   "cell_type": "markdown",
   "metadata": {},
   "source": [
    "### Referencias"
   ]
  },
  {
   "cell_type": "markdown",
   "metadata": {},
   "source": [
    "> Learn Markdown. (n.d.). Learn Markdown. GitHub Pages. Retrieved from https://learn-markdown.github.io/"
   ]
  },
  {
   "cell_type": "markdown",
   "metadata": {},
   "source": [
    " > Coursera. (29 de noviembre de 2023). ¿Qué es Python y para qué se usa? Guía para principiantes. https://www.coursera.org/articles/que-es-python"
   ]
  }
 ],
 "metadata": {
  "kernelspec": {
   "display_name": "cienciadedatosI",
   "language": "python",
   "name": "python3"
  },
  "language_info": {
   "codemirror_mode": {
    "name": "ipython",
    "version": 3
   },
   "file_extension": ".py",
   "mimetype": "text/x-python",
   "name": "python",
   "nbconvert_exporter": "python",
   "pygments_lexer": "ipython3",
   "version": "3.12.4"
  }
 },
 "nbformat": 4,
 "nbformat_minor": 2
}
